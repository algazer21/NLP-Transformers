{
  "cells": [
    {
      "cell_type": "markdown",
      "source": [
        "## Gemini pro for identify road updates in urls batches using Prompt Engineering."
      ],
      "metadata": {
        "id": "IX2nKpvlytps"
      }
    },
    {
      "cell_type": "code",
      "execution_count": 27,
      "metadata": {
        "id": "a4rrGJFXvQZG"
      },
      "outputs": [],
      "source": [
        "!pip install -q -U google-generativeai\n",
        "#!pip install datasets #transformers"
      ]
    },
    {
      "cell_type": "code",
      "execution_count": 28,
      "metadata": {
        "id": "kNtaD2Zrqs2d"
      },
      "outputs": [],
      "source": [
        "#import pathlib\n",
        "#import textwrap\n",
        "import numpy as np\n",
        "from bs4 import BeautifulSoup\n",
        "\n",
        "import google.generativeai as genai\n",
        "from google.generativeai.types import HarmCategory, HarmBlockThreshold\n",
        "from google.colab import userdata\n",
        "from tqdm.notebook import tqdm\n",
        "\n",
        "import pandas as pd\n",
        "import requests\n",
        "import time"
      ]
    },
    {
      "cell_type": "markdown",
      "source": [
        "### Url dataset"
      ],
      "metadata": {
        "id": "jY1OrdEyuzaU"
      }
    },
    {
      "cell_type": "code",
      "execution_count": 3,
      "metadata": {
        "id": "0ed2EJZ5rM9P"
      },
      "outputs": [],
      "source": [
        "df = pd.read_excel('/content/drive/MyDrive/fuis/Articulos ArgChil.xlsx',header = None, sheet_name = 1,usecols = [2])"
      ]
    },
    {
      "cell_type": "markdown",
      "source": [
        "### Gemeni model and safety settings"
      ],
      "metadata": {
        "id": "Rfqpb4lru9kb"
      }
    },
    {
      "cell_type": "code",
      "execution_count": 29,
      "metadata": {
        "id": "sDGmlmQ_uY8u"
      },
      "outputs": [],
      "source": [
        "model = genai.GenerativeModel('gemini-pro')\n",
        "safety_settings={\n",
        "        HarmCategory.HARM_CATEGORY_HATE_SPEECH: HarmBlockThreshold.BLOCK_NONE,\n",
        "        HarmCategory.HARM_CATEGORY_HARASSMENT: HarmBlockThreshold.BLOCK_NONE,\n",
        "        HarmCategory.HARM_CATEGORY_DANGEROUS_CONTENT: HarmBlockThreshold.BLOCK_NONE,\n",
        "        HarmCategory.HARM_CATEGORY_SEXUALLY_EXPLICIT: HarmBlockThreshold.BLOCK_NONE,\n",
        "    }\n",
        "GOOGLE_API_KEY=userdata.get('APIKEY')\n",
        "genai.configure(api_key=GOOGLE_API_KEY)"
      ]
    },
    {
      "cell_type": "code",
      "execution_count": 12,
      "metadata": {
        "id": "M8eWbn-Crf95"
      },
      "outputs": [],
      "source": [
        "def url_extractL(df,doc):\n",
        "  url = df.iloc[doc].to_numpy()[0]\n",
        "  try:\n",
        "    response = requests.get(url)\n",
        "    if response.status_code == 404:\n",
        "      return(404)\n",
        "    if response.status_code == 200:\n",
        "      return(BeautifulSoup(response.text, \"lxml\").text)\n",
        "    else:\n",
        "      print(\"URL bloqueada\",doc)\n",
        "      return(-2)\n",
        "  except:\n",
        "    print(\"URL no válida, url numero: \",doc)\n",
        "    return(-1)"
      ]
    },
    {
      "cell_type": "markdown",
      "source": [
        "### *url_extract()* for extract usefull text for url index in *df* dataset"
      ],
      "metadata": {
        "id": "xjmGIvEMvKQI"
      }
    },
    {
      "cell_type": "code",
      "source": [
        "url_extractL(df,5)"
      ],
      "metadata": {
        "colab": {
          "base_uri": "https://localhost:8080/",
          "height": 139
        },
        "id": "9D_epBRSdMX6",
        "outputId": "a414ebb9-a087-4821-f61a-78fc01716eaf"
      },
      "execution_count": 30,
      "outputs": [
        {
          "output_type": "execute_result",
          "data": {
            "text/plain": [
              "'Caminos Río Uruguay propone reparar la Ruta 14 atado a una adecuación de tarifas – Diario El Argentino de Gualeguaychú. Edición onlineAdsCiudadInfo. GeneralDepartamentoFúnebresSocialesPolicialesDeportesProvincialesNacionalesInternacionalesEdición ImpresaSeccionesSuscribiteSuscribiteIngresáSeccionesviernes 03 de mayo de 2024SuscribiteIngresáSuscribiteIngresáVolverA+A-SuscribiteSuscribiteÚltimas noticiasEdición ImpresaCiudadFúnebresInfo. GeneralDepartamentoSocialesPolicialesDeportesProvincialesNacionalesInternacionalesLínea DirectaTiempo Facebook Twitter SuscribiteIngresarFacebookTwitterAdsProvinciales19 de abril de 2024 | 14.34 (actualizado hace 14 días)LA EMPRESA CONFIRMÓ LA PRÓRROGA DE LA CONCESIÓN POR UN AÑOCaminos Río Uruguay propone reparar la Ruta 14 atado a una adecuación de tarifasAdsTras las constantes críticas por el estado de la Autovía 14 y luego de las últimas gestiones a nivel legislativo, el vocero de la empresa Caminos del Río Uruguay, Mariano Bradanini, brindó explicaciones y habló de la última concesión. \"Los cortes de pasto se realizan, dentro de las posibilidades\", indicó.AdsBradanini explicó que la concesión a la empresa del actual contrato del denominado Corredor 18, que incluye la Ruta Nacional 14, ha sido renovado. \"Desde hace muchísimos años, varias gestiones pasaron y las extensiones en la concesión se iban haciendo de manera provisoria, como pasó con esta también\", detalló. En ese sentido, contó que \"a partir del 9 de abril, se realizó una prórroga por un año\".Luego de un 2023 difícil en la relación de la firma con Vialidad Nacional, tras varias multas por incumplimientos, el vocero recordó que \"la concesión de Caminos del Río Uruguay terminaba en el año 2019 y luego se sucedieron prórrogas que también iban de la mano de la necesaria adecuación de tarifas que están pautadas\".Sin embargo, argumentó, esas actualizaciones atentas a la inflación en el país \"no se venían cumpliendo\", por lo que \"los costos de mantenimiento, los costos de construcción, los costos eléctricos, de combustibles y los sueldos crecían, pero las tarifas quedaban quietas y lamentablemente todo hizo que se llegue a este círculo vicioso, en el que hoy estamos todos adentro\".A las constantes críticas por el pésimo estado de la traza vial de la Autovía Gervasio Artigas, Bradanini respondió que \"la gerencia de la empresa está presentado un plan de obras\", pero atado \"a una adecuación importante\" en las tarifas que se cobran en concepto de peaje. Es que, según razonó, \"si hacemos una adecuación tarifaria desde 2019, teniendo en cuenta el Índice de Precios al Consumidor, hoy el peaje para vehículos livianos, tendría que ser de 2.600 pesos\", al menos en la cabina ubicada en el complejo Zárate - Brazo Largo.Además, el vocero comentó, \"a riesgo de caer antipático, que trabajos se hacen, inclusive se hacen consiguiendo el dinero desde sectores de la empresa que no son para obras\". En ese sentido puso como ejemplo las acciones de \"fresado, que hace que disminuya el ahuellamiento y de esa manera, muy parcialmente, se soluciona el problema con un tipo de asfalto\". Incluso, destacó que \"los cortes de pasto se realizan, dentro de las posibilidades\".Respecto a las responsabilidades de la muy precaria iluminación que se tiene en varios de los cruces que tiene la Ruta 14, Bradanini diferenció que en muchas de esas zonas \"es responsabilidad de Vialidad Nacional porque la empresa que realizó la obra tiene un período de garantía, en ese período de garantía, en la mayoría, hubo fallas y esa falla se tienen que hacer cargo las empresas que lo realizaron\". \"Caminos del Río Uruguay a veces se hace cargo, entonces hay que ir con el escribano, se notifica que había un daño y pasa la factura\", agregó a Diario Río Uruguay.AdsComentariosDebés iniciar sesión para poder comentarVer más NotasNosotrosDiario El Argentino de GualeguaychúEdición ImpresaSeccionesCiudadFúnebresInfo. GeneralDepartamentoSocialesPolicialesDeportesProvincialesNacionalesInternacionalesLínea DirectaTiempoAltura RíosOtros canalesFacebookTwitterContactoSuscribiteDiario El Argentino © Todos los derechos reservados · www.diarioelargentino.com.ar · Registro de Prop. Intelectual: en trámite · Rivadavia 845 · C.P. 2820 Gualeguaychú - Argentina -Términos y condicionesyprivacidad·AyudaPowered by'"
            ],
            "application/vnd.google.colaboratory.intrinsic+json": {
              "type": "string"
            }
          },
          "metadata": {},
          "execution_count": 30
        }
      ]
    },
    {
      "cell_type": "markdown",
      "source": [
        "### Prompt engineering"
      ],
      "metadata": {
        "id": "3XzTnM63v5iY"
      }
    },
    {
      "cell_type": "code",
      "execution_count": 32,
      "metadata": {
        "id": "--mxqPhBH6kn",
        "colab": {
          "base_uri": "https://localhost:8080/",
          "height": 156
        },
        "outputId": "39eef9f2-6848-4ba5-e618-6eacbb421430"
      },
      "outputs": [
        {
          "output_type": "stream",
          "name": "stdout",
          "text": [
            "['https://www.diariojornada.com.ar/367254/politica/torres_y_bowen_inauguraron_luminarias_en_el_acceso_de_dolavon']\n",
            "**Resumen:**\n",
            "\n",
            "El texto anuncia la inauguración de nuevas luminarias en el acceso a Dolavon.\n",
            "\n",
            "**Cambios viales potenciales:**\n",
            "\n",
            "El texto no especifica cambios viales potenciales.\n"
          ]
        }
      ],
      "source": [
        "print(df.iloc[21].to_numpy())\n",
        "text = url_extractL(df,21)\n",
        "prompt = \"Analiza siguiente texto buscando potenciales actualizaciones viales:\\n\"+ \"'\" + str(text) + \"'\\n\" + \"\"\"\n",
        "      Resume el texto en un par de enunciados cortos y concretos y si el texto realmente contiene potenciales cambios viales,\n",
        "      enumera los cambios viables que el texto especifica.\n",
        "      \"\"\"\n",
        "response = model.generate_content(prompt,safety_settings=safety_settings)\n",
        "print(response.text)"
      ]
    },
    {
      "cell_type": "code",
      "execution_count": null,
      "metadata": {
        "id": "LoFW-coyW218"
      },
      "outputs": [],
      "source": [
        "resumen = []\n",
        "for i in tqdm(range(len(df))):\n",
        "  text = url_extractL(df,i)\n",
        "  if text == 404: resumen.append(\"Pagina no encontrada\")\n",
        "  elif text == -1: resumen.append(\"Error de URL\")\n",
        "  elif text == -2: resumen.append(\"Bloqueo de URL\")\n",
        "\n",
        "  else:\n",
        "    prompt = \"Analiza siguiente texto buscando potenciales actualizaciones viales:\\n\"+ \"'\" + text + \"'\\n\" + \"\"\"\n",
        "      Resume el texto en un par de enunciados cortos y concretos y si el texto realmente contiene potenciales cambios viales,\n",
        "      enumera los cambios viables que el texto especifica.\n",
        "      \"\"\"\n",
        "    response = model.generate_content(prompt,safety_settings=safety_settings)\n",
        "    time.sleep(1)\n",
        "    if str(response.candidates[0].finish_reason) == \"FinishReason.OTHER\":\n",
        "      resumen.append(\"Error de Modelo de lenguaje\")\n",
        "    else:\n",
        "      resumen.append(response.text)"
      ]
    },
    {
      "cell_type": "code",
      "source": [
        "chi = np.append(progreso,resumen)\n",
        "print(chi.shape,len(chi),\"\\n\\n\",chi[-1])\n",
        "progreso = chi\n",
        "np.save(\"/content/drive/MyDrive/fuis/progreso\",progreso)"
      ],
      "metadata": {
        "colab": {
          "base_uri": "https://localhost:8080/"
        },
        "id": "_S1t-qwjynRk",
        "outputId": "e5136d0d-ef00-421d-cc03-3319dfc8b925"
      },
      "execution_count": null,
      "outputs": [
        {
          "output_type": "stream",
          "name": "stdout",
          "text": [
            "(1010,) 1010 \n",
            "\n",
            " **Resumen:**\n",
            "\n",
            "* Las autoridades inauguraron 13 viviendas y entregaron apoyo a bibliotecas y clubes deportivos en Arrufó.\n",
            "* Se anunciaron importantes proyectos viales, incluida la construcción de una rotonda y la repavimentación de varias carreteras.\n",
            "\n",
            "**Cambios viales potenciales:**\n",
            "\n",
            "* Construcción de una rotonda en la intersección de RN34 y RP39\n",
            "* Repavimentación de tramos de RP39, RP23 y RP13\n",
            "* Pavimentación del acceso al barrio Palermo en San Cristóbal\n",
            "* Ensanchamiento de 3 puentes sobre la RP4\n"
          ]
        }
      ]
    },
    {
      "cell_type": "code",
      "source": [
        "progreso = np.load(\"/content/drive/MyDrive/fuis/progreso.npy\")"
      ],
      "metadata": {
        "id": "djT84N9zx_XV"
      },
      "execution_count": null,
      "outputs": []
    },
    {
      "cell_type": "code",
      "execution_count": null,
      "metadata": {
        "id": "zvDwa-1BwlV-"
      },
      "outputs": [],
      "source": [
        "df.insert(1,\"3\",value = progreso)\n",
        "df.to_excel(\"/content/drive/MyDrive/fuis/output.xlsx\")"
      ]
    },
    {
      "cell_type": "code",
      "execution_count": null,
      "metadata": {
        "colab": {
          "base_uri": "https://localhost:8080/"
        },
        "id": "IWlpV7Yh8A4j",
        "outputId": "a3c98721-4ee9-4076-883e-f06dc40e4a6a"
      },
      "outputs": [
        {
          "name": "stdout",
          "output_type": "stream",
          "text": [
            "\n",
            "FinishReason.OTHER\n",
            "[]\n"
          ]
        }
      ],
      "source": [
        "# If the response doesn't contain text, check if the prompt was blocked.\n",
        "print(response.prompt_feedback)\n",
        "# Also check the finish reason to see if the response was blocked.\n",
        "print(response.candidates[0].finish_reason)\n",
        "# If the finish reason was SAFETY, the safety ratings have more details.\n",
        "print(response.candidates[0].safety_ratings)"
      ]
    }
  ],
  "metadata": {
    "colab": {
      "provenance": [],
      "mount_file_id": "1YDwcyQLUSnHXXGw7d24Xqfn7TVlBTbTD",
      "authorship_tag": "ABX9TyPL3CuNYliRUtOP26DzbISK"
    },
    "kernelspec": {
      "display_name": "Python 3",
      "name": "python3"
    },
    "language_info": {
      "name": "python"
    }
  },
  "nbformat": 4,
  "nbformat_minor": 0
}